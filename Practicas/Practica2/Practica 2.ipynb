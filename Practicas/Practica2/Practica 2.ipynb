{
 "cells": [
  {
   "cell_type": "markdown",
   "id": "a1d20bfa-091a-4275-8a16-b46f0761b459",
   "metadata": {},
   "source": [
    "# Practica 2: Multilinear regresion \n",
    "\n",
    "## Coded by Amparo Rubio Bellón"
   ]
  },
  {
   "cell_type": "code",
   "execution_count": 48,
   "id": "4898d4e2-101a-42f4-83ad-18ff40ba5e94",
   "metadata": {
    "tags": []
   },
   "outputs": [
    {
     "name": "stdout",
     "output_type": "stream",
     "text": [
      "\u001b[92mAll tests passed!\n",
      "\u001b[92mAll tests passed!\n"
     ]
    },
    {
     "ename": "IndexError",
     "evalue": "too many indices for array: array is 1-dimensional, but 2 were indexed",
     "output_type": "error",
     "traceback": [
      "\u001b[1;31m---------------------------------------------------------------------------\u001b[0m",
      "\u001b[1;31mIndexError\u001b[0m                                Traceback (most recent call last)",
      "Cell \u001b[1;32mIn[48], line 38\u001b[0m\n\u001b[0;32m     35\u001b[0m \u001b[38;5;66;03m# Dibuja los puntos de datos\u001b[39;00m\n\u001b[0;32m     36\u001b[0m plt\u001b[38;5;241m.\u001b[39mscatter(X[:, \u001b[38;5;241m0\u001b[39m], y, label\u001b[38;5;241m=\u001b[39m\u001b[38;5;124m'\u001b[39m\u001b[38;5;124mDatos reales\u001b[39m\u001b[38;5;124m'\u001b[39m)\n\u001b[1;32m---> 38\u001b[0m plt\u001b[38;5;241m.\u001b[39mscatter(\u001b[43mx_range\u001b[49m\u001b[43m[\u001b[49m\u001b[43m:\u001b[49m\u001b[43m,\u001b[49m\u001b[43m \u001b[49m\u001b[38;5;241;43m0\u001b[39;49m\u001b[43m]\u001b[49m, y_predicted,color\u001b[38;5;241m=\u001b[39m\u001b[38;5;124m'\u001b[39m\u001b[38;5;124mr\u001b[39m\u001b[38;5;124m'\u001b[39m ,label\u001b[38;5;241m=\u001b[39m\u001b[38;5;124m'\u001b[39m\u001b[38;5;124mDatos predichos\u001b[39m\u001b[38;5;124m'\u001b[39m)\n\u001b[0;32m     40\u001b[0m \u001b[38;5;66;03m# Dibuja la recta de regresión\u001b[39;00m\n\u001b[0;32m     41\u001b[0m plt\u001b[38;5;241m.\u001b[39mplot(x_range, y_predicted, color\u001b[38;5;241m=\u001b[39m\u001b[38;5;124m'\u001b[39m\u001b[38;5;124mred\u001b[39m\u001b[38;5;124m'\u001b[39m, label\u001b[38;5;241m=\u001b[39m\u001b[38;5;124m'\u001b[39m\u001b[38;5;124mRecta de regresión\u001b[39m\u001b[38;5;124m'\u001b[39m)\n",
      "\u001b[1;31mIndexError\u001b[0m: too many indices for array: array is 1-dimensional, but 2 were indexed"
     ]
    },
    {
     "data": {
      "image/png": "[encoded data removed]",
      "text/plain": [
       "<Figure size 640x480 with 1 Axes>"
      ]
     },
     "metadata": {},
     "output_type": "display_data"
    }
   ],
   "source": [
    "import matplotlib.pyplot as plt\n",
    "import numpy as np\n",
    "\n",
    "import multi_linear_reg as mlr\n",
    "\n",
    "from utils import load_data\n",
    "from utils import load_data_multi\n",
    "\n",
    "import public_tests as tests\n",
    "\n",
    "tests.compute_cost_test(mlr.compute_cost)\n",
    "tests.compute_gradient_test(mlr.compute_gradient)\n",
    "\n",
    "X,y=load_data_multi()\n",
    "\n",
    "# Entrenar el modelo utilizando el descenso de gradiente\n",
    "alpha = 0.01\n",
    "num_iterations = 1000\n",
    "\n",
    "# Inicializa pesos y sesgo\n",
    "w_initial = np.zeros(X.shape[1])  # Inicializa pesos en ceros\n",
    "b_initial = 0  # Inicializa sesgo en cero\n",
    "\n",
    "# Realiza el descenso de gradiente\n",
    "w_optimized, b_optimized, cost_history = mlr.gradient_descent(X, y, w_initial, b_initial, mlr.compute_cost, mlr.compute_gradient, alpha, num_iterations)\n",
    "\n",
    "# Ahora que tienes los parámetros óptimos, puedes dibujar la recta de regresión\n",
    "\n",
    "# Crea un rango de valores para X (por ejemplo, si estás visualizando un atributo)\n",
    "x_range = np.linspace(min(X[:, 0]), max(X[:, 0]), 100)\n",
    "\n",
    "# Calcula los valores predichos usando la recta de regresión\n",
    "y_predicted = w_optimized[0] * x_range + b_optimized\n",
    "\n",
    "# Dibuja los puntos de datos\n",
    "plt.scatter(X[:, 0], y, label='Datos reales')\n",
    "\n",
    "# Dibuja la recta de regresión\n",
    "plt.plot(x_range, y_predicted, color='red', label='Recta de regresión')\n",
    "\n",
    "plt.xlabel('Atributo X')\n",
    "plt.ylabel('Target y')\n",
    "plt.legend()\n",
    "plt.show()\n",
    "# By using zdir='y', the y value of these points is fixed to the zs value 0\n",
    "# and the (x, y) points are plotted on the x and z axes.\n",
    "\n",
    "\n"
   ]
  },
  {
   "cell_type": "code",
   "execution_count": null,
   "id": "92fdb7a9-8c05-4d87-abeb-4d46c6e34f9a",
   "metadata": {},
   "outputs": [],
   "source": []
  },
  {
   "cell_type": "code",
   "execution_count": null,
   "id": "a9c9e284-c35e-4cb2-ac39-60ee7f733316",
   "metadata": {},
   "outputs": [],
   "source": []
  },
  {
   "cell_type": "code",
   "execution_count": null,
   "id": "93c16c28-07d7-4b6c-bab5-4b8a7a895618",
   "metadata": {},
   "outputs": [],
   "source": []
  }
 ],
 "metadata": {
  "kernelspec": {
   "display_name": "Python 3 (ipykernel)",
   "language": "python",
   "name": "python3"
  },
  "language_info": {
   "codemirror_mode": {
    "name": "ipython",
    "version": 3
   },
   "file_extension": ".py",
   "mimetype": "text/x-python",
   "name": "python",
   "nbconvert_exporter": "python",
   "pygments_lexer": "ipython3",
   "version": "3.11.4"
  }
 },
 "nbformat": 4,
 "nbformat_minor": 5
}
