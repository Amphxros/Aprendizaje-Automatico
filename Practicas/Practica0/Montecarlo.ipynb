{
 "cells": [
  {
   "cell_type": "code",
   "execution_count": 54,
   "id": "be5b0c9e-a6e3-4fd6-92cd-18d35ab35860",
   "metadata": {
    "tags": []
   },
   "outputs": [
    {
     "name": "stdout",
     "output_type": "stream",
     "text": [
      "5\n"
     ]
    }
   ],
   "source": [
    "import numpy as np\n",
    "from scipy import sparse\n",
    "\n",
    "def integra_mc(fun, a, b, num_puntos=1000):\n",
    "    \n",
    "    points=np.random.random((num_puntos,num_puntos))\n",
    "  \n",
    "    Fa=0;\n",
    "    Fb=0;\n",
    "    for x in range(a):\n",
    "        Fa+=fun(x)\n",
    "    for y in range(b):\n",
    "        Fb+=fun(y)\n",
    "    \n",
    "    I=Fb-Fa\n",
    "    return I;\n",
    "    \n",
    "    \n",
    "def cuadrado(x):\n",
    "    return x * x\n",
    "\n",
    "\n",
    "\n",
    "P=integra_mc(cuadrado,0,3)\n",
    "print(P)"
   ]
  },
  {
   "cell_type": "code",
   "execution_count": null,
   "id": "e00d8737-6d5a-4c46-88bf-3b8f41833b98",
   "metadata": {},
   "outputs": [],
   "source": []
  }
 ],
 "metadata": {
  "kernelspec": {
   "display_name": "Python 3 (ipykernel)",
   "language": "python",
   "name": "python3"
  },
  "language_info": {
   "codemirror_mode": {
    "name": "ipython",
    "version": 3
   },
   "file_extension": ".py",
   "mimetype": "text/x-python",
   "name": "python",
   "nbconvert_exporter": "python",
   "pygments_lexer": "ipython3",
   "version": "3.11.4"
  }
 },
 "nbformat": 4,
 "nbformat_minor": 5
}
