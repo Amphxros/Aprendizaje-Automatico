{
 "cells": [
  {
   "cell_type": "markdown",
   "id": "10fe4d98-b8d8-4c29-8fd6-c3a8a1febfb3",
   "metadata": {},
   "source": [
    "# Practica 2: Descenso Gradiente\n",
    "### Alumnos: *Amparo Rubio Bellón*"
   ]
  },
  {
   "cell_type": "code",
   "execution_count": null,
   "id": "b218986e-1e1d-4a61-a11b-4b50bae23046",
   "metadata": {},
   "outputs": [],
   "source": [
    "import matplotlib.pyplot as plt\n",
    "from utils import load_data\n",
    "from linear_reg import gradient_descent, compute_gradient, compute_cost\n",
    "\n",
    "# Cargar los datos\n",
    "data = load_data('data/ex1data1.txt')\n",
    "x, y = data[:, 0], data[:, 1]\n",
    "m = len(y)\n",
    "\n",
    "plt.scatter(x, y, marker='x', color='red')\n",
    "plt.xlabel('Renta Media Anual (en miles de euros)')\n",
    "plt.ylabel('Beneficio Medio (en millones de euros)')\n",
    "plt.title('Datos del dataset')\n",
    "plt.show()\n",
    "\n",
    "\n"
   ]
  }
 ],
 "metadata": {
  "kernelspec": {
   "display_name": "Python 3 (ipykernel)",
   "language": "python",
   "name": "python3"
  },
  "language_info": {
   "codemirror_mode": {
    "name": "ipython",
    "version": 3
   },
   "file_extension": ".py",
   "mimetype": "text/x-python",
   "name": "python",
   "nbconvert_exporter": "python",
   "pygments_lexer": "ipython3",
   "version": "3.11.4"
  }
 },
 "nbformat": 4,
 "nbformat_minor": 5
}
