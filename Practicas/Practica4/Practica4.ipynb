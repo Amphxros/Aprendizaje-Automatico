{
 "cells": [
  {
   "cell_type": "markdown",
   "id": "5bf34df7-26c7-41e5-9cd6-a6fb4970ae23",
   "metadata": {},
   "source": [
    "# Practica 4\n",
    "# Autores: Amparo Rubio y Jorge Zurdo "
   ]
  },
  {
   "cell_type": "code",
   "execution_count": 1,
   "id": "63cb2d7a-2d6d-4cd9-8498-c2398855f0b6",
   "metadata": {
    "tags": []
   },
   "outputs": [
    {
     "name": "stdout",
     "output_type": "stream",
     "text": [
      "Accuracy: 97.52%\n"
     ]
    }
   ],
   "source": [
    "from scipy.io import loadmat, savemat\n",
    "import utils as util\n",
    "import ANN\n",
    "import numpy as np\n",
    "\n",
    "# Load data and weights\n",
    "data = loadmat('data/ex3data1.mat', squeeze_me=True)\n",
    "y = data['y']\n",
    "X = data['X']\n",
    "\n",
    "weights = loadmat('data/ex3weights.mat')\n",
    "theta1, theta2 = weights['Theta1'], weights['Theta2']\n",
    "\n",
    "# Make predictions\n",
    "predictions = ANN.predict(theta1, theta2, X)\n",
    "\n",
    "# Calculate accuracy\n",
    "accuracy = np.mean(predictions == y) * 100\n",
    "print(f'Accuracy: {accuracy:.2f}%')\n",
    "                 \n",
    "\n"
   ]
  },
  {
   "cell_type": "code",
   "execution_count": null,
   "id": "99c4c2fa-11a3-4e64-a718-3eda2cdd4151",
   "metadata": {},
   "outputs": [],
   "source": []
  },
  {
   "cell_type": "code",
   "execution_count": null,
   "id": "b467a000-08c8-4dd7-9df0-03ed56f73cc7",
   "metadata": {},
   "outputs": [],
   "source": []
  }
 ],
 "metadata": {
  "kernelspec": {
   "display_name": "Python 3 (ipykernel)",
   "language": "python",
   "name": "python3"
  },
  "language_info": {
   "codemirror_mode": {
    "name": "ipython",
    "version": 3
   },
   "file_extension": ".py",
   "mimetype": "text/x-python",
   "name": "python",
   "nbconvert_exporter": "python",
   "pygments_lexer": "ipython3",
   "version": "3.11.4"
  }
 },
 "nbformat": 4,
 "nbformat_minor": 5
}
