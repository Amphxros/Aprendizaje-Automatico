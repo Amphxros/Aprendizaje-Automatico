{
 "cells": [
  {
   "cell_type": "markdown",
   "id": "5bf34df7-26c7-41e5-9cd6-a6fb4970ae23",
   "metadata": {},
   "source": [
    "# Practica 4\n",
    "# Autores: Amparo Rubio y Jorge Zurdo "
   ]
  },
  {
   "cell_type": "code",
   "execution_count": null,
   "id": "63cb2d7a-2d6d-4cd9-8498-c2398855f0b6",
   "metadata": {
    "tags": []
   },
   "outputs": [],
   "source": [
    "from scipy.io import loadmat, savemat\n",
    "import utils as util\n",
    "import ANN\n",
    "import numpy as np\n",
    "\n",
    "# Load data and weights\n",
    "data = loadmat('data/ex3data1.mat', squeeze_me=True)\n",
    "y = data['y']\n",
    "X = data['X']\n",
    "\n",
    "weights = loadmat('data/ex3weights.mat')\n",
    "theta1, theta2 = weights['Theta1'], weights['Theta2']\n",
    "\n",
    "# Make predictions\n",
    "predictions = ANN.predict(theta1, theta2, X)\n",
    "\n",
    "# Calculate accuracy\n",
    "accuracy = np.mean(predictions == y) * 100\n",
    "print(f'Accuracy: {accuracy:.2f}%')\n",
    "                 \n",
    "\n"
   ]
  },
  {
   "cell_type": "code",
   "execution_count": null,
   "id": "99c4c2fa-11a3-4e64-a718-3eda2cdd4151",
   "metadata": {},
   "outputs": [],
   "source": []
  },
  {
   "cell_type": "code",
   "execution_count": null,
   "id": "c0da374c-2c0c-44a7-a024-25048b575ac6",
   "metadata": {},
   "outputs": [],
   "source": []
  },
  {
   "cell_type": "code",
   "execution_count": null,
   "id": "d949ab38-4ecc-4529-a8a1-0f477f7e6d78",
   "metadata": {},
   "outputs": [],
   "source": []
  },
  {
   "cell_type": "code",
   "execution_count": null,
   "id": "0b7aef84-4646-48b1-80b2-594a0d8c911e",
   "metadata": {},
   "outputs": [],
   "source": []
  },
  {
   "cell_type": "code",
   "execution_count": null,
   "id": "606fd782-cb05-4214-8b1f-e0ba4134ba8c",
   "metadata": {},
   "outputs": [],
   "source": []
  },
  {
   "cell_type": "code",
   "execution_count": null,
   "id": "1645e778-ce46-402b-9c9e-47bea26d509c",
   "metadata": {},
   "outputs": [],
   "source": []
  }
 ],
 "metadata": {
  "kernelspec": {
   "display_name": "Python 3 (ipykernel)",
   "language": "python",
   "name": "python3"
  },
  "language_info": {
   "codemirror_mode": {
    "name": "ipython",
    "version": 3
   },
   "file_extension": ".py",
   "mimetype": "text/x-python",
   "name": "python",
   "nbconvert_exporter": "python",
   "pygments_lexer": "ipython3",
   "version": "3.11.4"
  }
 },
 "nbformat": 4,
 "nbformat_minor": 5
}
