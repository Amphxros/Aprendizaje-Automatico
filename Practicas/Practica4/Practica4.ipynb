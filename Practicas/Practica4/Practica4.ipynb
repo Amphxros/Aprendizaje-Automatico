{
 "cells": [
  {
   "cell_type": "markdown",
   "id": "5bf34df7-26c7-41e5-9cd6-a6fb4970ae23",
   "metadata": {},
   "source": [
    "# Practica 4\n",
    "# Autores: Amparo Rubio y Jorge Zurdo "
   ]
  },
  {
   "cell_type": "code",
   "execution_count": 7,
   "id": "63cb2d7a-2d6d-4cd9-8498-c2398855f0b6",
   "metadata": {},
   "outputs": [
    {
     "name": "stdout",
     "output_type": "stream",
     "text": [
      "[[0. 0. 0. ... 0. 0. 0.]\n",
      " [0. 0. 0. ... 0. 0. 0.]\n",
      " [0. 0. 0. ... 0. 0. 0.]\n",
      " ...\n",
      " [0. 0. 0. ... 0. 0. 0.]\n",
      " [0. 0. 0. ... 0. 0. 0.]\n",
      " [0. 0. 0. ... 0. 0. 0.]]\n",
      "[0 0 0 ... 9 9 9]\n"
     ]
    },
    {
     "ename": "NameError",
     "evalue": "name 'p' is not defined",
     "output_type": "error",
     "traceback": [
      "\u001b[1;31m---------------------------------------------------------------------------\u001b[0m",
      "\u001b[1;31mNameError\u001b[0m                                 Traceback (most recent call last)",
      "Cell \u001b[1;32mIn[7], line 15\u001b[0m\n\u001b[0;32m     12\u001b[0m theta1, theta2 \u001b[38;5;241m=\u001b[39m weights[\u001b[38;5;124m'\u001b[39m\u001b[38;5;124mTheta1\u001b[39m\u001b[38;5;124m'\u001b[39m], weights[\u001b[38;5;124m'\u001b[39m\u001b[38;5;124mTheta2\u001b[39m\u001b[38;5;124m'\u001b[39m]\n\u001b[0;32m     13\u001b[0m m \u001b[38;5;241m=\u001b[39m X\u001b[38;5;241m.\u001b[39mshape[\u001b[38;5;241m0\u001b[39m]\n\u001b[1;32m---> 15\u001b[0m p\u001b[38;5;241m=\u001b[39m\u001b[43mANN\u001b[49m\u001b[38;5;241;43m.\u001b[39;49m\u001b[43mpredict\u001b[49m\u001b[43m(\u001b[49m\u001b[43mtheta1\u001b[49m\u001b[43m,\u001b[49m\u001b[43m \u001b[49m\u001b[43mtheta2\u001b[49m\u001b[43m,\u001b[49m\u001b[43m \u001b[49m\u001b[43mX\u001b[49m\u001b[43m)\u001b[49m\n\u001b[0;32m     16\u001b[0m \u001b[38;5;28mprint\u001b[39m(p)\n",
      "File \u001b[1;32m~\\Documents\\Aprendizaje-Automatico\\Practicas\\Practica4\\ANN.py:30\u001b[0m, in \u001b[0;36mpredict\u001b[1;34m(theta1, theta2, X)\u001b[0m\n\u001b[0;32m      6\u001b[0m \u001b[38;5;28;01mdef\u001b[39;00m \u001b[38;5;21mpredict\u001b[39m(theta1, theta2, X):\n\u001b[0;32m      7\u001b[0m \u001b[38;5;250m\t\u001b[39m\u001b[38;5;124;03m\"\"\"\u001b[39;00m\n\u001b[0;32m      8\u001b[0m \u001b[38;5;124;03m\tPredict the label of an input given a trained neural network.\u001b[39;00m\n\u001b[0;32m      9\u001b[0m \n\u001b[1;32m   (...)\u001b[0m\n\u001b[0;32m     27\u001b[0m \u001b[38;5;124;03m\t\tIt has a length equal to the number of examples.\u001b[39;00m\n\u001b[0;32m     28\u001b[0m \u001b[38;5;124;03m\t\"\"\"\u001b[39;00m\n\u001b[1;32m---> 30\u001b[0m \t\u001b[38;5;28;01mreturn\u001b[39;00m \u001b[43mp\u001b[49m\n",
      "\u001b[1;31mNameError\u001b[0m: name 'p' is not defined"
     ]
    }
   ],
   "source": [
    "from scipy.io import loadmat, savemat\n",
    "import utils as util\n",
    "import ANN\n",
    "\n",
    "\n",
    "data = loadmat('data/ex3data1.mat', squeeze_me=True)\n",
    "y = data['y']\n",
    "X = data['X']\n",
    "print(X)\n",
    "print (y)\n",
    "weights= loadmat('data/ex3weights.mat', squeeze_me=True)\n",
    "theta1, theta2 = weights['Theta1'], weights['Theta2']\n",
    "m = X.shape[0]\n",
    "\n",
    "p=ANN.predict(theta1, theta2, X)\n",
    "print(p)\n",
    "\n",
    "\n",
    "                 \n",
    "\n"
   ]
  },
  {
   "cell_type": "code",
   "execution_count": null,
   "id": "99c4c2fa-11a3-4e64-a718-3eda2cdd4151",
   "metadata": {},
   "outputs": [],
   "source": []
  }
 ],
 "metadata": {
  "kernelspec": {
   "display_name": "Python 3 (ipykernel)",
   "language": "python",
   "name": "python3"
  },
  "language_info": {
   "codemirror_mode": {
    "name": "ipython",
    "version": 3
   },
   "file_extension": ".py",
   "mimetype": "text/x-python",
   "name": "python",
   "nbconvert_exporter": "python",
   "pygments_lexer": "ipython3",
   "version": "3.10.9"
  }
 },
 "nbformat": 4,
 "nbformat_minor": 5
}
