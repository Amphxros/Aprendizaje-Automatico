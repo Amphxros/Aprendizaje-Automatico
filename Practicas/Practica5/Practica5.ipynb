{
 "cells": [
  {
   "cell_type": "markdown",
   "id": "1f0ce29c-d215-41be-b56b-e3f1668678d4",
   "metadata": {},
   "source": []
  },
  {
   "cell_type": "code",
   "execution_count": 1,
   "id": "53665b52-f175-408b-b0a5-fafad95157d5",
   "metadata": {},
   "outputs": [
    {
     "ename": "IndentationError",
     "evalue": "unexpected indent (ann.py, line 34)",
     "output_type": "error",
     "traceback": [
      "Traceback \u001b[1;36m(most recent call last)\u001b[0m:\n",
      "\u001b[0m  File \u001b[0;32m~\\AppData\\Roaming\\Python\\Python311\\site-packages\\IPython\\core\\interactiveshell.py:3526\u001b[0m in \u001b[0;35mrun_code\u001b[0m\n    exec(code_obj, self.user_global_ns, self.user_ns)\u001b[0m\n",
      "\u001b[1;36m  Cell \u001b[1;32mIn[1], line 3\u001b[1;36m\n\u001b[1;33m    import ann\u001b[1;36m\n",
      "\u001b[1;36m  File \u001b[1;32m~\\Documents\\Universidad\\Aprendizaje-Automatico\\Practicas\\Practica5\\ann.py:34\u001b[1;36m\u001b[0m\n\u001b[1;33m    m = len(y)\u001b[0m\n\u001b[1;37m    ^\u001b[0m\n\u001b[1;31mIndentationError\u001b[0m\u001b[1;31m:\u001b[0m unexpected indent\n"
     ]
    }
   ],
   "source": [
    "import numpy as np\n",
    "from scipy.io import loadmat\n",
    "import ann\n",
    "\n",
    "\n",
    "# Constants\n",
    "input_size = 400\n",
    "hidden_size = 25\n",
    "output_size = 10\n",
    "lambda_ = 1\n",
    "alpha = 1\n",
    "num_iterations = 1000\n",
    "# Load data\n",
    "data = loadmat('data/ex3data1.mat', squeeze_me=True)\n",
    "X = data['X']\n",
    "y = data['y']\n",
    "\n",
    "# Train the neural network\n",
    "theta1, theta2 = ann.train_neural_network(X, y, input_size, hidden_size, output_size, lambda_, alpha, num_iterations)\n",
    "\n",
    "# Make predictions on training set\n",
    "predictions = ann.predict(theta1, theta2, X)\n",
    "\n",
    "# Calculate accuracy\n",
    "accuracy = np.mean(predictions == y.flatten()) * 100\n",
    "print(accuracy)\n",
    "\n"
   ]
  },
  {
   "cell_type": "code",
   "execution_count": null,
   "id": "e3f12a48-1498-4499-b5bb-74f3785da87e",
   "metadata": {},
   "outputs": [],
   "source": []
  },
  {
   "cell_type": "code",
   "execution_count": null,
   "id": "8793dcf2-afdb-4f3a-b0cd-0f8551205feb",
   "metadata": {},
   "outputs": [],
   "source": []
  },
  {
   "cell_type": "code",
   "execution_count": null,
   "id": "26230b35-c4a0-4e7c-abed-f2323ee1763c",
   "metadata": {},
   "outputs": [],
   "source": []
  }
 ],
 "metadata": {
  "kernelspec": {
   "display_name": "Python 3 (ipykernel)",
   "language": "python",
   "name": "python3"
  },
  "language_info": {
   "codemirror_mode": {
    "name": "ipython",
    "version": 3
   },
   "file_extension": ".py",
   "mimetype": "text/x-python",
   "name": "python",
   "nbconvert_exporter": "python",
   "pygments_lexer": "ipython3",
   "version": "3.11.4"
  }
 },
 "nbformat": 4,
 "nbformat_minor": 5
}
