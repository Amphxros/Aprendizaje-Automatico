{
 "cells": [
  {
   "cell_type": "markdown",
   "id": "1f0ce29c-d215-41be-b56b-e3f1668678d4",
   "metadata": {},
   "source": []
  },
  {
   "cell_type": "code",
   "execution_count": 3,
   "id": "53665b52-f175-408b-b0a5-fafad95157d5",
   "metadata": {},
   "outputs": [],
   "source": [
    "import numpy as np\n",
    "from scipy.io import loadmat\n",
    "import ann\n",
    "\n",
    "\n",
    "# Constants\n",
    "input_size = 400\n",
    "hidden_size = 25\n",
    "output_size = 10\n",
    "lambda_ = 1\n",
    "alpha = 1\n",
    "num_iterations = 1000\n",
    "# Load data\n",
    "data = loadmat('data/ex3data1.mat', squeeze_me=True)\n",
    "X = data['X']\n",
    "y = data['y']\n",
    "\n",
    "# Train the neural network\n",
    "theta1, theta2 = train_neural_network(X, y, input_size, hidden_size, output_size, lambda_, alpha, num_iterations)\n",
    "\n",
    "# Make predictions on training set\n",
    "predictions = predict(theta1, theta2, X)\n",
    "\n",
    "# Calculate accuracy\n",
    "accuracy = np.mean(predictions == y.flatten()) * 100\n",
    "print(f'T\n",
    "\n"
   ]
  },
  {
   "cell_type": "code",
   "execution_count": null,
   "id": "e3f12a48-1498-4499-b5bb-74f3785da87e",
   "metadata": {},
   "outputs": [],
   "source": []
  },
  {
   "cell_type": "code",
   "execution_count": null,
   "id": "8793dcf2-afdb-4f3a-b0cd-0f8551205feb",
   "metadata": {},
   "outputs": [],
   "source": []
  }
 ],
 "metadata": {
  "kernelspec": {
   "display_name": "Python 3 (ipykernel)",
   "language": "python",
   "name": "python3"
  },
  "language_info": {
   "codemirror_mode": {
    "name": "ipython",
    "version": 3
   },
   "file_extension": ".py",
   "mimetype": "text/x-python",
   "name": "python",
   "nbconvert_exporter": "python",
   "pygments_lexer": "ipython3",
   "version": "3.11.4"
  }
 },
 "nbformat": 4,
 "nbformat_minor": 5
}
