{
 "cells": [
  {
   "cell_type": "markdown",
   "id": "e7d85084-7a8b-4b41-bea2-406813250a01",
   "metadata": {},
   "source": [
    " # Practica 3: Logistic Regression"
   ]
  },
  {
   "cell_type": "code",
   "execution_count": 16,
   "id": "9acb1b24-09a2-4f93-8e43-ba2b3c385c93",
   "metadata": {
    "tags": []
   },
   "outputs": [
    {
     "name": "stdout",
     "output_type": "stream",
     "text": [
      "\u001b[92mAll tests passed!\n",
      "\u001b[92mAll tests passed!\n",
      "\u001b[92mAll tests passed!\n"
     ]
    },
    {
     "ename": "AssertionError",
     "evalue": "Wrong output. Expected: 0.5469746792761936 got:0.5249871971057413",
     "output_type": "error",
     "traceback": [
      "\u001b[1;31m---------------------------------------------------------------------------\u001b[0m",
      "\u001b[1;31mAssertionError\u001b[0m                            Traceback (most recent call last)",
      "Cell \u001b[1;32mIn[16], line 11\u001b[0m\n\u001b[0;32m      8\u001b[0m pt\u001b[38;5;241m.\u001b[39mcompute_gradient_test(lr\u001b[38;5;241m.\u001b[39mcompute_gradient)\n\u001b[0;32m      9\u001b[0m pt\u001b[38;5;241m.\u001b[39mpredict_test(lr\u001b[38;5;241m.\u001b[39mpredict)\n\u001b[1;32m---> 11\u001b[0m \u001b[43mpt\u001b[49m\u001b[38;5;241;43m.\u001b[39;49m\u001b[43mcompute_cost_reg_test\u001b[49m\u001b[43m(\u001b[49m\u001b[43mlr\u001b[49m\u001b[38;5;241;43m.\u001b[39;49m\u001b[43mcompute_cost_reg\u001b[49m\u001b[43m)\u001b[49m\n\u001b[0;32m     12\u001b[0m pt\u001b[38;5;241m.\u001b[39mcompute_gradient_reg_test(lr\u001b[38;5;241m.\u001b[39mcompute_gradient_reg)\n",
      "File \u001b[1;32m~\\Documents\\Universidad\\Aprendizaje-Automatico\\Practicas\\Practica3\\public_tests.py:93\u001b[0m, in \u001b[0;36mcompute_cost_reg_test\u001b[1;34m(target)\u001b[0m\n\u001b[0;32m     90\u001b[0m lambda_ \u001b[38;5;241m=\u001b[39m \u001b[38;5;241m0.1\u001b[39m\n\u001b[0;32m     91\u001b[0m expected_output \u001b[38;5;241m=\u001b[39m target(X, y, w, b, lambda_)\n\u001b[1;32m---> 93\u001b[0m \u001b[38;5;28;01massert\u001b[39;00m np\u001b[38;5;241m.\u001b[39misclose(expected_output, \u001b[38;5;241m0.5469746792761936\u001b[39m), \u001b[38;5;124mf\u001b[39m\u001b[38;5;124m\"\u001b[39m\u001b[38;5;124mWrong output. Expected: \u001b[39m\u001b[38;5;132;01m{\u001b[39;00m\u001b[38;5;241m0.5469746792761936\u001b[39m\u001b[38;5;132;01m}\u001b[39;00m\u001b[38;5;124m got:\u001b[39m\u001b[38;5;132;01m{\u001b[39;00mexpected_output\u001b[38;5;132;01m}\u001b[39;00m\u001b[38;5;124m\"\u001b[39m\n\u001b[0;32m     95\u001b[0m w \u001b[38;5;241m=\u001b[39m np\u001b[38;5;241m.\u001b[39mrandom\u001b[38;5;241m.\u001b[39mrandn(\u001b[38;5;241m5\u001b[39m)\n\u001b[0;32m     96\u001b[0m b \u001b[38;5;241m=\u001b[39m \u001b[38;5;241m-\u001b[39m\u001b[38;5;241m0.6\u001b[39m\n",
      "\u001b[1;31mAssertionError\u001b[0m: Wrong output. Expected: 0.5469746792761936 got:0.5249871971057413"
     ]
    }
   ],
   "source": [
    "import numpy as np\n",
    "\n",
    "import public_tests as pt\n",
    "import logistic_reg as lr\n",
    "\n",
    "# tests\n",
    "pt.sigmoid_test(lr.sigmoid)\n",
    "pt.compute_gradient_test(lr.compute_gradient)\n",
    "pt.predict_test(lr.predict)\n",
    "\n",
    "pt.compute_cost_reg_test(lr.compute_cost_reg)\n",
    "pt.compute_gradient_reg_test(lr.compute_gradient_reg)\n"
   ]
  },
  {
   "cell_type": "code",
   "execution_count": null,
   "id": "52a16284-1242-41e5-9e4c-b7e067a361f5",
   "metadata": {},
   "outputs": [],
   "source": []
  },
  {
   "cell_type": "code",
   "execution_count": null,
   "id": "220f4aa3-4e79-40c3-97ea-07244d672cc9",
   "metadata": {},
   "outputs": [],
   "source": []
  }
 ],
 "metadata": {
  "kernelspec": {
   "display_name": "Python 3 (ipykernel)",
   "language": "python",
   "name": "python3"
  },
  "language_info": {
   "codemirror_mode": {
    "name": "ipython",
    "version": 3
   },
   "file_extension": ".py",
   "mimetype": "text/x-python",
   "name": "python",
   "nbconvert_exporter": "python",
   "pygments_lexer": "ipython3",
   "version": "3.11.4"
  }
 },
 "nbformat": 4,
 "nbformat_minor": 5
}
