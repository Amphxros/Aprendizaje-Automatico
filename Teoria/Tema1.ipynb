{
 "cells": [
  {
   "cell_type": "markdown",
   "metadata": {},
   "source": [
    "### Introduction\n",
    "* Machine Learning: \"Process of learning by itself\"\n",
    "\n",
    "Requires memory to store new knowledge\n",
    "Problem abstraction\n",
    "\n",
    "***\"Hay unas pelotas\"*--Ismael**\n",
    "***\"Base de gatos 🐱🐱🐱\"*--Zero**\n",
    "---\n",
    "**<u>Machine learning</u>** performs inductive learning, i.e. it draws conclusions based on examples.\n",
    "It requires abstraction from small details that do not provide information relevant to general cases.\n",
    "Abstraction generates biases (Sesgos) and these are necessary for learning work properly. This is known as having generalizability\n",
    "(Capacidad de generalización)\n",
    "\n",
    "Do humans introduce biases into our learning?\n",
    "Spelling rules (some of which have exceptions)\n",
    "Electric equations assume that bodies are in vacuum\n",
    "Uniformly accelerated motion assumes you do it in a vacuum\n",
    "Einstein's equation of relativity (*e=mc^2*), only applies to particles\n",
    "with mass (for the photon the calculations are more complex).\n",
    "\n",
    "---\n",
    "***\"Es que los murcianos no saben hablar\"* \n",
    " -pausa de 2 segundos- \n",
    "*\"Tengo amigos en Murcia\"*--Ismael**\n",
    "---\n",
    "```python\n",
    "viking_song= \"Spam \"*4\n",
    "print(viking_song)\n",
    "\n",
    "\"Spam Spam Spam Spam\"\n",
    "```\n",
    "\n"
   ]
  }
 ],
 "metadata": {
  "language_info": {
   "name": "python"
  },
  "orig_nbformat": 4
 },
 "nbformat": 4,
 "nbformat_minor": 2
}
