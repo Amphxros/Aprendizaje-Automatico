{
 "cells": [
  {
   "cell_type": "markdown",
   "metadata": {
    "tags": []
   },
   "source": [
    "### Introduction\n",
    "1. Qué es el aprendizaje automático (Machine Learning)\n",
    "\n",
    "- Learning “The act, process or experience of acquiring knowledge or Skills”\n",
    "- Automatic That works by itself\n",
    "\n",
    "\n",
    "* Machine Learning: \"Process of learning, process, or act by itself\"\n",
    "\n",
    "Requires memory to store new knowledge\n",
    "Problem abstraction\n",
    "\n",
    "---\n",
    "***\"Hay unas pelotas\"*--Ismael**\n",
    "***\"Base de gatos 🐱🐱🐱\"*--Zero**\n",
    "---\n",
    "\n",
    "**<u>Machine learning</u>** performs inductive learning, i.e. it draws conclusions based on examples. It requires abstraction from small details that do not provide information relevant to general cases. Abstraction generates biases (Sesgos) and these are necessary for learning work properly. This is known as having generalizability (Capacidad de generalización)\n",
    "\n",
    "Do humans introduce biases into our learning?\n",
    "Spelling rules (some of which have exceptions)\n",
    "Electric equations assume that bodies are in vacuum\n",
    "Uniformly accelerated motion assumes you do it in a vacuum\n",
    "Einstein's equation of relativity (*e=mc^2*), only applies to particles\n",
    "with mass (for the photon the calculations are more complex).\n",
    "\n",
    "---\n",
    "***\"Es que los murcianos no saben hablar\"* \n",
    " -pausa de 2 segundos- \n",
    "*\"Tengo amigos en Murcia\"*--Ismael**\n",
    "---\n",
    "```python\n",
    "    print(\"Hello world\")\n",
    "```\n",
    "\n"
   ]
  },
  {
   "cell_type": "code",
   "execution_count": 1,
   "metadata": {},
   "outputs": [
    {
     "name": "stdout",
     "output_type": "stream",
     "text": [
      "Spam Spam Spam Spam \n"
     ]
    }
   ],
   "source": [
    "viking_song= \"Spam \"*4\n",
    "print(viking_song)"
   ]
  },
  {
   "cell_type": "markdown",
   "metadata": {},
   "source": []
  }
 ],
 "metadata": {
  "kernelspec": {
   "display_name": "Python 3 (ipykernel)",
   "language": "python",
   "name": "python3"
  },
  "language_info": {
   "codemirror_mode": {
    "name": "ipython",
    "version": 3
   },
   "file_extension": ".py",
   "mimetype": "text/x-python",
   "name": "python",
   "nbconvert_exporter": "python",
   "pygments_lexer": "ipython3",
   "version": "3.11.4"
  }
 },
 "nbformat": 4,
 "nbformat_minor": 4
}
