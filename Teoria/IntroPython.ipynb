{
 "cells": [
  {
   "cell_type": "markdown",
   "id": "69a6fc32",
   "metadata": {},
   "source": [
    "### Intro Python"
   ]
  },
  {
   "cell_type": "code",
   "execution_count": 3,
   "id": "977c4459",
   "metadata": {},
   "outputs": [
    {
     "name": "stdout",
     "output_type": "stream",
     "text": [
      "ereht iH\n"
     ]
    }
   ],
   "source": [
    "frase= \"Hi there\" \n",
    "print(frase[::-1])\n"
   ]
  },
  {
   "cell_type": "code",
   "execution_count": 6,
   "id": "bbd14f31",
   "metadata": {},
   "outputs": [
    {
     "name": "stdout",
     "output_type": "stream",
     "text": [
      "Spam Spam Spam Spam  Spam Spam Spam Spam\n"
     ]
    }
   ],
   "source": [
    "i=0\n",
    "while i<=10\n",
    "    viking_song= \"Spam \"*4 + 4* \" Spam\"\n",
    "    print(viking_song)\n",
    "    i++;"
   ]
  }
 ],
 "metadata": {
  "kernelspec": {
   "display_name": "Python 3",
   "language": "python",
   "name": "python3"
  },
  "language_info": {
   "codemirror_mode": {
    "name": "ipython",
    "version": 3
   },
   "file_extension": ".py",
   "mimetype": "text/x-python",
   "name": "python",
   "nbconvert_exporter": "python",
   "pygments_lexer": "ipython3",
   "version": "3.11.5"
  }
 },
 "nbformat": 4,
 "nbformat_minor": 5
}
