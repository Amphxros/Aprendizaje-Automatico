{
 "cells": [
  {
   "cell_type": "markdown",
   "id": "69a6fc32",
   "metadata": {},
   "source": [
    "### Intro Python"
   ]
  },
  {
   "cell_type": "code",
   "execution_count": null,
   "id": "977c4459",
   "metadata": {},
   "outputs": [],
   "source": [
    "frase= \"Hi there\" \n",
    "print(frase[::-1])\n"
   ]
  },
  {
   "cell_type": "code",
   "execution_count": 1,
   "id": "bbd14f31",
   "metadata": {},
   "outputs": [
    {
     "name": "stdout",
     "output_type": "stream",
     "text": [
      "Spam Spam Spam Spam Spam Spam Spam Spam Spam Spam Spam Spam \n",
      "Spam Spam Spam Spam Spam Spam Spam Spam Spam Spam Spam Spam \n",
      "Spam Spam Spam Spam Spam Spam Spam Spam Spam Spam Spam Spam \n",
      "Spam Spam Spam Spam Spam Spam Spam Spam Spam Spam Spam Spam \n",
      "Spam Spam Spam Spam Spam Spam Spam Spam Spam Spam Spam Spam \n",
      "Spam Spam Spam Spam Spam Spam Spam Spam Spam Spam Spam Spam \n",
      "Spam Spam Spam Spam Spam Spam Spam Spam Spam Spam Spam Spam \n",
      "Spam Spam Spam Spam Spam Spam Spam Spam Spam Spam Spam Spam \n",
      "Spam Spam Spam Spam Spam Spam Spam Spam Spam Spam Spam Spam \n",
      "Spam Spam Spam Spam Spam Spam Spam Spam Spam Spam Spam Spam \n",
      "Spam Spam Spam Spam Spam Spam Spam Spam Spam Spam Spam Spam \n",
      "11\n"
     ]
    }
   ],
   "source": [
    "i=0\n",
    "while i<=10:\n",
    "    viking_song= \"Spam \"*4*3\n",
    "    print(viking_song)\n",
    "    i=i+1\n",
    "print(i);"
   ]
  }
 ],
 "metadata": {
  "kernelspec": {
   "display_name": "Python 3 (ipykernel)",
   "language": "python",
   "name": "python3"
  },
  "language_info": {
   "codemirror_mode": {
    "name": "ipython",
    "version": 3
   },
   "file_extension": ".py",
   "mimetype": "text/x-python",
   "name": "python",
   "nbconvert_exporter": "python",
   "pygments_lexer": "ipython3",
   "version": "3.11.4"
  }
 },
 "nbformat": 4,
 "nbformat_minor": 5
}
