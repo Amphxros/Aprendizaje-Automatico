{
 "cells": [
  {
   "cell_type": "markdown",
   "metadata": {},
   "source": [
    "### Tema 3 : Redes neuronales\n",
    "\n",
    "- Backpropagation algorithm - \n",
    "\n",
    "- Axion: output\n",
    "- Dentrites: Input\n",
    "Between them synapse\n",
    "\n"
   ]
  }
 ],
 "metadata": {
  "language_info": {
   "name": "python"
  }
 },
 "nbformat": 4,
 "nbformat_minor": 2
}
