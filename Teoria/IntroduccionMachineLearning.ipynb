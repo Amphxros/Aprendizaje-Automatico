{
 "cells": [
  {
   "cell_type": "markdown",
   "metadata": {
    "jp-MarkdownHeadingCollapsed": true,
    "tags": []
   },
   "source": [
    "\n",
    "---\n",
    "### *<u>Temario</u>*\n",
    "\n",
    "0. **Introduccion a Python**\n",
    "1. **Introduccion al aprendizaje automatico**\n",
    "2. **Regresion y clasificación**\n",
    "3. **Redes Neuronales**\n",
    "4. **Diseño de sistemas**\n",
    "5. **Arboles de decisión, KNN y otros paradigmas**\n",
    "6. **Aprendizaje no supervisado**\n",
    "7. **Aprendizaje por refuerzo**\n",
    "8. **Deep Learning**\n",
    "---\n",
    "*Nota= Examen x 0.6 + Practicas x 0.4*\n",
    "Tutorias: Despacho 409 o online\n",
    "- *Anaconda*\n",
    "- *PyTorch*\n",
    "\n",
    "***\"Las redes neuronales son brujería informática\"* -- Zero**\n",
    "\n"
   ]
  }
 ],
 "metadata": {
  "kernelspec": {
   "display_name": "Python 3 (ipykernel)",
   "language": "python",
   "name": "python3"
  },
  "language_info": {
   "codemirror_mode": {
    "name": "ipython",
    "version": 3
   },
   "file_extension": ".py",
   "mimetype": "text/x-python",
   "name": "python",
   "nbconvert_exporter": "python",
   "pygments_lexer": "ipython3",
   "version": "3.11.4"
  }
 },
 "nbformat": 4,
 "nbformat_minor": 4
}
